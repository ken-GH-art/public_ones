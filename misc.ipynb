{
 "cells": [
  {
   "cell_type": "markdown",
   "id": "75225a51-2221-4b5d-9a55-0184ca41fe88",
   "metadata": {},
   "source": [
    "misc 2023/01/30~\n",
    "\n",
    "----\n",
    "- __used in a paper, KB-equation__\n",
    "----"
   ]
  },
  {
   "cell_type": "code",
   "execution_count": 2,
   "id": "41cc3fdf-1ec9-4fa4-80c7-965b3900549d",
   "metadata": {},
   "outputs": [],
   "source": [
    "import numpy as np\n",
    "import matplotlib.pyplot as plt"
   ]
  },
  {
   "cell_type": "code",
   "execution_count": 3,
   "id": "10cc6f29-4af8-461b-b67a-1ed89fcf1ad8",
   "metadata": {},
   "outputs": [],
   "source": [
    "a=[[1,0.1,0.1],[0.1,1,0.1],[0.1,0.1,1]]"
   ]
  },
  {
   "cell_type": "code",
   "execution_count": 4,
   "id": "e26b1bef-dcb7-4e3a-953a-2f208c9886a5",
   "metadata": {},
   "outputs": [
    {
     "data": {
      "text/plain": [
       "(array([0.9, 1.2, 0.9]),\n",
       " array([[-0.81649658,  0.57735027, -0.05137542],\n",
       "        [ 0.40824829,  0.57735027, -0.68001791],\n",
       "        [ 0.40824829,  0.57735027,  0.73139333]]))"
      ]
     },
     "execution_count": 4,
     "metadata": {},
     "output_type": "execute_result"
    }
   ],
   "source": [
    "np.linalg.eig(a)"
   ]
  },
  {
   "cell_type": "code",
   "execution_count": 5,
   "id": "e23a60f3-aa5b-4ac0-8e2c-bc84c8e4d580",
   "metadata": {},
   "outputs": [],
   "source": [
    "v=np.sort(np.random.rand(100))"
   ]
  },
  {
   "cell_type": "code",
   "execution_count": 260,
   "id": "4bdce6f8-4b65-4777-962f-b18b44627ce7",
   "metadata": {},
   "outputs": [],
   "source": [
    "A=[v for i in range(100)]\n",
    "B=np.eye(100)\n",
    "for i in range(100): B[i,:]=v[i]\n",
    "K=np.exp(-1*np.abs(A-B))\n",
    "a,b=np.linalg.eig(K)\n",
    "#plt.imshow(b)\n",
    "\n",
    "plt.rcParams[\"font.size\"] = 18\n",
    "#plt.subplot(2,2,1)\n",
    "plt.plot(a,label='eigen value')\n",
    "#plt.plot(np.sum(b,axis=0),label='sum')\n",
    "#plt.legend()\n",
    "plt.yscale('log')\n",
    "plt.xscale('log')\n",
    "plt.savefig('eigs.eps')\n",
    "plt.close()\n",
    "#plt.show()\n",
    "#plt.subplot(2,2,2)\n",
    "for i in range(0,5):\n",
    "    plt.plot(b[:,i],label=i)\n",
    "#plt.legend()\n",
    "plt.savefig('eigv1.eps')\n",
    "plt.close()\n",
    "#plt.show()\n",
    "#plt.subplot(2,2,3)\n",
    "for i in range(45,50):\n",
    "    plt.plot(b[:,i],label=i)\n",
    "#plt.legend()\n",
    "plt.savefig('eigv2.eps')\n",
    "plt.close()\n",
    "#plt.show()\n",
    "#plt.subplot(2,2,4)\n",
    "for i in range(95,100):\n",
    "    plt.plot(b[:,i],label=i)\n",
    "#plt.legend()\n",
    "plt.savefig('eigv3.eps')\n",
    "plt.close()\n",
    "#plt.show()"
   ]
  },
  {
   "cell_type": "markdown",
   "id": "595ae260-a694-4c6d-8ba5-c0d07b2e37d2",
   "metadata": {},
   "source": [
    "__memo__ 20230131:  \n",
    "1. error, $x^*-x$, distribution, $e(x)$\n",
    "2. frequency domain, $e(k)$\n",
    "3. spectrum density -> reduced from lower freq.\n",
    "\n",
    "NUFFT: https://jyhmiinlin.github.io/pynufft/index.html"
   ]
  },
  {
   "cell_type": "code",
   "execution_count": 8,
   "id": "d9de5172-8d27-4bc9-ac93-bb6e20a2456a",
   "metadata": {},
   "outputs": [
    {
     "data": {
      "text/plain": [
       "array([0.49158707, 0.33620969, 0.94021384, 0.2168708 , 0.50852112,\n",
       "       0.11848508, 0.33701872, 0.45260871, 0.21756661, 0.74028588])"
      ]
     },
     "execution_count": 8,
     "metadata": {},
     "output_type": "execute_result"
    }
   ],
   "source": [
    "np.random.random(10)"
   ]
  },
  {
   "cell_type": "code",
   "execution_count": 13,
   "id": "780cbfb3-3247-4f93-8f29-32b427168857",
   "metadata": {},
   "outputs": [
    {
     "data": {
      "text/plain": [
       "24"
      ]
     },
     "execution_count": 13,
     "metadata": {},
     "output_type": "execute_result"
    }
   ],
   "source": [
    "49//2"
   ]
  },
  {
   "cell_type": "code",
   "execution_count": 184,
   "id": "d9664286-b679-4935-9efe-e1089aa1ddae",
   "metadata": {},
   "outputs": [],
   "source": [
    "def nufftfreqs(M, df=1):\n",
    "    \"\"\"Compute the frequency range used in nufft for M frequency bins\"\"\"\n",
    "    return df * np.arange(-(M // 2), M-(M // 2))\n",
    "    #return df*np.array(np.arange(0,1+M//2).tolist()+np.arange(-M//2,0).tolist())\n",
    "\n",
    "\n",
    "def nudft(x, y, M, df=1.0, iflag=-1):\n",
    "    \"\"\"Non-Uniform Direct Fourier Transform\"\"\"\n",
    "    sign = -1 if iflag < 0 else 1\n",
    "    return np.dot(y, np.exp(sign * 1j * 2* np.pi*nufftfreqs(M, df) * x[:, np.newaxis]))"
   ]
  },
  {
   "cell_type": "code",
   "execution_count": 208,
   "id": "1853e327-ac5d-4cc5-8911-15bb3c395e3e",
   "metadata": {},
   "outputs": [],
   "source": [
    "x=np.random.rand(1000)\n",
    "#x=np.linspace(0,1,1000)\n",
    "y=np.sin(10*x)\n",
    "y2=np.sin(np.linspace(0,10,1000))\n",
    "F=nudft(x,y,1000)\n",
    "#np.fft.fftshift(np.fft.fftshift(np.arange(-10,10)))"
   ]
  },
  {
   "cell_type": "code",
   "execution_count": 209,
   "id": "ab7802c2-6127-4b32-8c05-c4c9f532ad85",
   "metadata": {},
   "outputs": [],
   "source": [
    "a=np.fft.ifft(np.fft.fftshift(F))\n",
    "A=np.fft.fft(y2)\n",
    "A2=np.fft.ifft(A)"
   ]
  },
  {
   "cell_type": "code",
   "execution_count": 210,
   "id": "40205ac1-4f22-4b55-a764-cbc0e89129c8",
   "metadata": {},
   "outputs": [
    {
     "data": {
      "text/plain": [
       "[<matplotlib.lines.Line2D at 0x1408d49a0>]"
      ]
     },
     "execution_count": 210,
     "metadata": {},
     "output_type": "execute_result"
    },
    {
     "data": {
      "image/png": "[encoded data removed]",
      "text/plain": [
       "<Figure size 432x288 with 1 Axes>"
      ]
     },
     "metadata": {
      "needs_background": "light"
     },
     "output_type": "display_data"
    }
   ],
   "source": [
    "plt.plot(a.real)\n",
    "plt.plot(A2.real)"
   ]
  },
  {
   "cell_type": "code",
   "execution_count": 211,
   "id": "fb43281d-6fab-40f9-be75-c5d73bce6acb",
   "metadata": {},
   "outputs": [
    {
     "data": {
      "text/plain": [
       "[<matplotlib.lines.Line2D at 0x14093b670>]"
      ]
     },
     "execution_count": 211,
     "metadata": {},
     "output_type": "execute_result"
    },
    {
     "data": {
      "image/png": "[encoded data removed]",
      "text/plain": [
       "<Figure size 432x288 with 1 Axes>"
      ]
     },
     "metadata": {
      "needs_background": "light"
     },
     "output_type": "display_data"
    }
   ],
   "source": [
    "#plt.plot(100*x,y,'.')\n",
    "plt.plot(F.real)\n",
    "plt.plot(np.fft.fftshift(A.real))"
   ]
  },
  {
   "cell_type": "code",
   "execution_count": 215,
   "id": "a4db1a39-1584-48f2-aec8-1d42abd911ae",
   "metadata": {},
   "outputs": [
    {
     "data": {
      "text/plain": [
       "[<matplotlib.lines.Line2D at 0x140cb9220>]"
      ]
     },
     "execution_count": 215,
     "metadata": {},
     "output_type": "execute_result"
    },
    {
     "data": {
      "image/png": "[encoded data removed]",
      "text/plain": [
       "<Figure size 432x288 with 1 Axes>"
      ]
     },
     "metadata": {
      "needs_background": "light"
     },
     "output_type": "display_data"
    }
   ],
   "source": [
    "plt.plot(np.absolute(F)**2)\n",
    "plt.plot(np.absolute(np.fft.fftshift(A))**2)"
   ]
  },
  {
   "cell_type": "code",
   "execution_count": 144,
   "id": "365da745-50e7-42bd-a18b-98219c211104",
   "metadata": {},
   "outputs": [
    {
     "data": {
      "text/plain": [
       "array([-6, -5, -4, -3, -2, -1,  0,  1,  2,  3,  4,  5,  6])"
      ]
     },
     "execution_count": 144,
     "metadata": {},
     "output_type": "execute_result"
    }
   ],
   "source": [
    "M=13\n",
    "np.arange(-(M // 2), 1+(M // 2))\n",
    "#np.arange(0,1+M//2).tolist()+np.arange(-M//2,0).tolist()"
   ]
  },
  {
   "cell_type": "code",
   "execution_count": null,
   "id": "8cd3420e-5dc2-42bb-9413-43aa1e31ca71",
   "metadata": {},
   "outputs": [],
   "source": []
  },
  {
   "cell_type": "markdown",
   "id": "526e4275-cb6a-4d7e-aa38-e5beac5e9dab",
   "metadata": {},
   "source": [
    "----\n",
    "FLOPs vs time (2023/03/10)"
   ]
  },
  {
   "cell_type": "code",
   "execution_count": 244,
   "id": "baa623b0-b4ac-4e13-a35a-318f8fd89037",
   "metadata": {},
   "outputs": [
    {
     "data": {
      "image/png": "[encoded data removed]",
      "text/plain": [
       "<Figure size 432x288 with 1 Axes>"
      ]
     },
     "metadata": {
      "needs_background": "light"
     },
     "output_type": "display_data"
    }
   ],
   "source": [
    "flops=[83.38,39.71,21.17,23.02,83.61]\n",
    "times=[40.77,35.45,25.10,23.20,41.17]\n",
    "flops_h,flops_VC=[87.6,87.84],[47.12,46.78]\n",
    "times_h,times_VC=[44.72,45.25],[24.34,24.17]\n",
    "plt.scatter(flops,times,s=100,label='pvb/full',alpha=0.75)\n",
    "plt.scatter(flops_h,times_h,s=100,label='pvb/full-2half',alpha=0.75)\n",
    "plt.scatter(flops_VC,times_VC,s=100,label='vc',alpha=0.75)\n",
    "plt.plot([0,100],[15,50],c='r',alpha=0.5)\n",
    "plt.legend()\n",
    "plt.xlim(0,100)\n",
    "plt.ylim(0,50)\n",
    "plt.xlabel('GFLOPs')\n",
    "plt.ylabel('mean[ms]')\n",
    "plt.rcParams[\"font.size\"] = 13"
   ]
  },
  {
   "cell_type": "code",
   "execution_count": null,
   "id": "8ebbf97e-9abc-4a41-bb14-2c4fe62e9a00",
   "metadata": {},
   "outputs": [],
   "source": []
  }
 ],
 "metadata": {
  "kernelspec": {
   "display_name": "torch",
   "language": "python",
   "name": "torch"
  },
  "language_info": {
   "codemirror_mode": {
    "name": "ipython",
    "version": 3
   },
   "file_extension": ".py",
   "mimetype": "text/x-python",
   "name": "python",
   "nbconvert_exporter": "python",
   "pygments_lexer": "ipython3",
   "version": "3.8.6"
  }
 },
 "nbformat": 4,
 "nbformat_minor": 5
}
